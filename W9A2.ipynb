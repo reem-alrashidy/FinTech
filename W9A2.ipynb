{
 "cells": [
  {
   "cell_type": "code",
   "execution_count": 1,
   "id": "b18843e3-f6a6-48ae-a923-e5807ceab0db",
   "metadata": {},
   "outputs": [],
   "source": [
    "from hashlib import sha256\n",
    "import json\n",
    "import datetime"
   ]
  },
  {
   "cell_type": "code",
   "execution_count": 2,
   "id": "0f49baf5-093d-41fc-8c72-2dee6d73f428",
   "metadata": {},
   "outputs": [],
   "source": [
    "class Block:\n",
    "    def __init__(self, index, transactions, timestamp, previous_hash, nonce=0):\n",
    "        self.index = index\n",
    "        self.transactions = transactions\n",
    "        self.timestamp = timestamp\n",
    "        self.previous_hash = previous_hash\n",
    "        self.nonce = nonce\n",
    "    \n",
    "    def compute_hash(self):\n",
    "        block_string = json.dumps(self.__dict__, sort_keys=True)\n",
    "        return sha256(block_string.encode()).hexdigest()"
   ]
  },
  {
   "cell_type": "code",
   "execution_count": 3,
   "id": "71668410-b787-4962-bcbb-805888f871d2",
   "metadata": {},
   "outputs": [
    {
     "name": "stdout",
     "output_type": "stream",
     "text": [
      "<class '__main__.Block'>\n",
      "00000c5554c07e2356e0f222a629f1ce5445c10fce90caa94e625da5ea37bb43\n",
      "<class '__main__.Block'>\n",
      "000003ca9a174d4c2bd7ab033b0ab9032351e851cb99783c37e52ac5db687bde\n",
      "<class '__main__.Block'>\n",
      "000009533b98ca4e9be4f307224f7b91274939b71ca599fb898a481d65b8da2e\n",
      "<class '__main__.Block'>\n",
      "00000ef3d6c1c3f253c4b9d7b526cde276818a89006cd7a6002ad939a9a43c7e\n",
      "<class '__main__.Block'>\n",
      "00000dfcc21bba8662639dc802d87185675acc14e86ec0251913e5b61e51d6a4\n",
      "<class '__main__.Block'>\n",
      "00000b496af365b9974dfc8a47df965b79bbcd2b2a3e17076ea0f9dc42ce8d17\n",
      "<class '__main__.Block'>\n",
      "0000091cb784ef4d78c89b645d9f041b7cead99be09d0e374d95a580849d5baa\n",
      "<class '__main__.Block'>\n",
      "000000a654097375de5078a5336383386e3fad66c91506f20fe720d1e4726b67\n",
      "<class '__main__.Block'>\n",
      "0000034f7a940dba4305635f87bb39d3ed78ab4f70f56288fcebd416fa1cd90a\n",
      "<__main__.Blockchain object at 0x000001B4148421F0>\n"
     ]
    }
   ],
   "source": [
    "class Blockchain: \n",
    "    def __init__(self):\n",
    "        self.unconfirmed_transactions = [\"Ty pays Brent 1000 BTC\"]\n",
    "        self.chain = []\n",
    "        self.difficulty = 5\n",
    "        self.create_genesis_block()\n",
    "        \n",
    "    def create_genesis_block(self):\n",
    "        genesis_block = Block(0, [], str(datetime.datetime.now()), \"0\")\n",
    "        genesis_block.hash = genesis_block.compute_hash()\n",
    "        self.chain.append(genesis_block)\n",
    "    \n",
    "    def last_block(self):\n",
    "        return self.chain[-1]\n",
    "    \n",
    "    def proof_of_work(self, block):\n",
    "        block.nonce = 1\n",
    "        computed_hash = block.compute_hash()\n",
    "        while not computed_hash.startswith('0' * self.difficulty):\n",
    "            block.nonce += 1\n",
    "            computed_hash = block.compute_hash()\n",
    "        return computed_hash\n",
    "    \n",
    "    def is_valid_proof(self, block, block_hash):\n",
    "        return (block_hash.startswith('0' * self.difficulty) and\n",
    "                block_hash == block.compute_hash())\n",
    "    \n",
    "    def add_block(self, block, proof):\n",
    "        previous_hash = self.chain[-1].hash\n",
    "        if previous_hash != block.previous_hash:\n",
    "            return False\n",
    "        if not self.is_valid_proof(block, proof):\n",
    "            return False\n",
    "        block.hash = proof\n",
    "        self.chain.append(block)\n",
    "        return True\n",
    "    \n",
    "    def add_new_transaction(self, transaction):\n",
    "            self.unconfirmed_transactions.append(transaction)\n",
    " \n",
    "    def mine(self):\n",
    "        if not self.unconfirmed_transactions:\n",
    "            return False\n",
    " \n",
    "        last_block = self.chain[-1]\n",
    "        print(type(last_block))\n",
    "        new_block = Block(last_block.index + 1, self.unconfirmed_transactions, str(datetime.datetime.now()),last_block.hash)\n",
    " \n",
    "        proof = self.proof_of_work(new_block)\n",
    "        self.add_block(new_block, proof)\n",
    "        self.unconfirmed_transactions = [\"Ty pays Brent 1000 BTC\"]\n",
    "        return new_block.index\n",
    "\n",
    "blockchain = Blockchain()  \n",
    "while len(blockchain.chain) < 10:\n",
    "    blockchain.mine()\n",
    "    print(blockchain.chain[-1].hash)\n",
    "print(blockchain)"
   ]
  }
 ],
 "metadata": {
  "kernelspec": {
   "display_name": "Python 3",
   "language": "python",
   "name": "python3"
  },
  "language_info": {
   "codemirror_mode": {
    "name": "ipython",
    "version": 3
   },
   "file_extension": ".py",
   "mimetype": "text/x-python",
   "name": "python",
   "nbconvert_exporter": "python",
   "pygments_lexer": "ipython3",
   "version": "3.8.8"
  }
 },
 "nbformat": 4,
 "nbformat_minor": 5
}
